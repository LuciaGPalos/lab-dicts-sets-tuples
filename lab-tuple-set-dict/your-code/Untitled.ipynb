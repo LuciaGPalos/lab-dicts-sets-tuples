{
 "cells": [
  {
   "cell_type": "code",
   "execution_count": 5,
   "id": "d61c5832-68bb-4b75-9cc9-533aeea7b590",
   "metadata": {},
   "outputs": [],
   "source": [
    "def fake_bin(x):\n",
    "    string=''\n",
    "    return string.join('0' if c < '5' else '1' for c in x)"
   ]
  },
  {
   "cell_type": "code",
   "execution_count": null,
   "id": "d76012ea-f15f-470f-a734-c33f128ddd2a",
   "metadata": {},
   "outputs": [],
   "source": []
  }
 ],
 "metadata": {
  "kernelspec": {
   "display_name": "Python 3 (ipykernel)",
   "language": "python",
   "name": "python3"
  },
  "language_info": {
   "codemirror_mode": {
    "name": "ipython",
    "version": 3
   },
   "file_extension": ".py",
   "mimetype": "text/x-python",
   "name": "python",
   "nbconvert_exporter": "python",
   "pygments_lexer": "ipython3",
   "version": "3.9.12"
  }
 },
 "nbformat": 4,
 "nbformat_minor": 5
}
